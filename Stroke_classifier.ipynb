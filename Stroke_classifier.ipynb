{
  "nbformat": 4,
  "nbformat_minor": 0,
  "metadata": {
    "colab": {
      "name": "Stroke classifier",
      "provenance": []
    },
    "kernelspec": {
      "name": "python3",
      "display_name": "Python 3"
    },
    "language_info": {
      "name": "python"
    }
  },
  "cells": [
    {
      "cell_type": "markdown",
      "source": [
        "According to the World Health Organization (WHO) Stroke is ranked 2nd in causes of death, it is responsible for approximately 11% of total deaths. this problem can be addressed by our algorithm which will classifiy stroke based on outout parameters such as cigeretes per day, blood pressure, total chloride etc."
      ],
      "metadata": {
        "id": "rdiwFcjiCTMy"
      }
    },
    {
      "cell_type": "code",
      "execution_count": 63,
      "metadata": {
        "colab": {
          "base_uri": "https://localhost:8080/",
          "height": 17
        },
        "id": "iQByhNOaK-Ds",
        "outputId": "e20ede92-8ad5-4898-b911-aabd06c3ddfc"
      },
      "outputs": [
        {
          "output_type": "display_data",
          "data": {
            "text/html": [
              "        <script type=\"text/javascript\">\n",
              "        window.PlotlyConfig = {MathJaxConfig: 'local'};\n",
              "        if (window.MathJax) {MathJax.Hub.Config({SVG: {font: \"STIX-Web\"}});}\n",
              "        if (typeof require !== 'undefined') {\n",
              "        require.undef(\"plotly\");\n",
              "        requirejs.config({\n",
              "            paths: {\n",
              "                'plotly': ['https://cdn.plot.ly/plotly-latest.min']\n",
              "            }\n",
              "        });\n",
              "        require(['plotly'], function(Plotly) {\n",
              "            window._Plotly = Plotly;\n",
              "        });\n",
              "        }\n",
              "        </script>\n",
              "        "
            ]
          },
          "metadata": {}
        }
      ],
      "source": [
        "#General Libraries\n",
        "import numpy as np\n",
        "import pandas as pd \n",
        "\n",
        "#Machine Learning Libraries\n",
        "import statsmodels.api as sm\n",
        "import statsmodels.formula.api as smf\n",
        "from sklearn.preprocessing import scale \n",
        "from sklearn.model_selection import train_test_split, GridSearchCV, cross_val_score\n",
        "from sklearn.metrics import confusion_matrix, accuracy_score, classification_report\n",
        "from sklearn.metrics import roc_auc_score,roc_curve\n",
        "import statsmodels.formula.api as smf\n",
        "from sklearn.linear_model import LogisticRegression\n",
        "from sklearn.svm import SVC\n",
        "from sklearn.naive_bayes import GaussianNB\n",
        "\n",
        "# Data Visualiztion Libraries\n",
        "import seaborn as sns\n",
        "from plotly.offline import init_notebook_mode, iplot\n",
        "init_notebook_mode(connected=True)\n",
        "import plotly.graph_objs as go\n",
        "import matplotlib.pyplot as plt\n"
      ]
    },
    {
      "cell_type": "markdown",
      "source": [
        "Importing all the necessary libraries needed for the algorithm."
      ],
      "metadata": {
        "id": "67QD2N9_BKKZ"
      }
    },
    {
      "cell_type": "code",
      "source": [
        "dataset = pd.read_csv('/content/Dataset_raw.csv')"
      ],
      "metadata": {
        "id": "REUknkMxLPp6"
      },
      "execution_count": 64,
      "outputs": []
    },
    {
      "cell_type": "code",
      "source": [
        "dataset.head()  \n"
      ],
      "metadata": {
        "colab": {
          "base_uri": "https://localhost:8080/",
          "height": 206
        },
        "id": "--FGiaU3LZC2",
        "outputId": "8d89d28d-01d0-461c-968e-01ee51ecde78"
      },
      "execution_count": 65,
      "outputs": [
        {
          "output_type": "execute_result",
          "data": {
            "text/html": [
              "\n",
              "  <div id=\"df-261e7d85-3102-4620-ae43-a3505f6f1ec0\">\n",
              "    <div class=\"colab-df-container\">\n",
              "      <div>\n",
              "<style scoped>\n",
              "    .dataframe tbody tr th:only-of-type {\n",
              "        vertical-align: middle;\n",
              "    }\n",
              "\n",
              "    .dataframe tbody tr th {\n",
              "        vertical-align: top;\n",
              "    }\n",
              "\n",
              "    .dataframe thead th {\n",
              "        text-align: right;\n",
              "    }\n",
              "</style>\n",
              "<table border=\"1\" class=\"dataframe\">\n",
              "  <thead>\n",
              "    <tr style=\"text-align: right;\">\n",
              "      <th></th>\n",
              "      <th>RANDID</th>\n",
              "      <th>TOTCHOL</th>\n",
              "      <th>AGE</th>\n",
              "      <th>SYSBP</th>\n",
              "      <th>DIABP</th>\n",
              "      <th>TIMEMI</th>\n",
              "      <th>CIGPDAY</th>\n",
              "      <th>TIME</th>\n",
              "      <th>STROKE</th>\n",
              "      <th>BMI</th>\n",
              "    </tr>\n",
              "  </thead>\n",
              "  <tbody>\n",
              "    <tr>\n",
              "      <th>0</th>\n",
              "      <td>2448</td>\n",
              "      <td>196.0</td>\n",
              "      <td>52.0</td>\n",
              "      <td>100.0</td>\n",
              "      <td>62.0</td>\n",
              "      <td>6438.0</td>\n",
              "      <td>0.0</td>\n",
              "      <td>4628</td>\n",
              "      <td>2.0</td>\n",
              "      <td>NaN</td>\n",
              "    </tr>\n",
              "    <tr>\n",
              "      <th>1</th>\n",
              "      <td>6238</td>\n",
              "      <td>223.0</td>\n",
              "      <td>58.0</td>\n",
              "      <td>122.0</td>\n",
              "      <td>75.0</td>\n",
              "      <td>8766.0</td>\n",
              "      <td>0.0</td>\n",
              "      <td>4344</td>\n",
              "      <td>2.0</td>\n",
              "      <td>28.5</td>\n",
              "    </tr>\n",
              "    <tr>\n",
              "      <th>2</th>\n",
              "      <td>11252</td>\n",
              "      <td>232.0</td>\n",
              "      <td>58.0</td>\n",
              "      <td>131.0</td>\n",
              "      <td>70.0</td>\n",
              "      <td>8766.0</td>\n",
              "      <td>0.0</td>\n",
              "      <td>4285</td>\n",
              "      <td>2.0</td>\n",
              "      <td>24.6</td>\n",
              "    </tr>\n",
              "    <tr>\n",
              "      <th>3</th>\n",
              "      <td>11263</td>\n",
              "      <td>216.0</td>\n",
              "      <td>55.0</td>\n",
              "      <td>140.0</td>\n",
              "      <td>70.0</td>\n",
              "      <td>8766.0</td>\n",
              "      <td>0.0</td>\n",
              "      <td>4351</td>\n",
              "      <td>1.0</td>\n",
              "      <td>31.2</td>\n",
              "    </tr>\n",
              "    <tr>\n",
              "      <th>4</th>\n",
              "      <td>12806</td>\n",
              "      <td>208.0</td>\n",
              "      <td>57.0</td>\n",
              "      <td>127.0</td>\n",
              "      <td>75.0</td>\n",
              "      <td>8766.0</td>\n",
              "      <td>0.0</td>\n",
              "      <td>4289</td>\n",
              "      <td>2.0</td>\n",
              "      <td>22.0</td>\n",
              "    </tr>\n",
              "  </tbody>\n",
              "</table>\n",
              "</div>\n",
              "      <button class=\"colab-df-convert\" onclick=\"convertToInteractive('df-261e7d85-3102-4620-ae43-a3505f6f1ec0')\"\n",
              "              title=\"Convert this dataframe to an interactive table.\"\n",
              "              style=\"display:none;\">\n",
              "        \n",
              "  <svg xmlns=\"http://www.w3.org/2000/svg\" height=\"24px\"viewBox=\"0 0 24 24\"\n",
              "       width=\"24px\">\n",
              "    <path d=\"M0 0h24v24H0V0z\" fill=\"none\"/>\n",
              "    <path d=\"M18.56 5.44l.94 2.06.94-2.06 2.06-.94-2.06-.94-.94-2.06-.94 2.06-2.06.94zm-11 1L8.5 8.5l.94-2.06 2.06-.94-2.06-.94L8.5 2.5l-.94 2.06-2.06.94zm10 10l.94 2.06.94-2.06 2.06-.94-2.06-.94-.94-2.06-.94 2.06-2.06.94z\"/><path d=\"M17.41 7.96l-1.37-1.37c-.4-.4-.92-.59-1.43-.59-.52 0-1.04.2-1.43.59L10.3 9.45l-7.72 7.72c-.78.78-.78 2.05 0 2.83L4 21.41c.39.39.9.59 1.41.59.51 0 1.02-.2 1.41-.59l7.78-7.78 2.81-2.81c.8-.78.8-2.07 0-2.86zM5.41 20L4 18.59l7.72-7.72 1.47 1.35L5.41 20z\"/>\n",
              "  </svg>\n",
              "      </button>\n",
              "      \n",
              "  <style>\n",
              "    .colab-df-container {\n",
              "      display:flex;\n",
              "      flex-wrap:wrap;\n",
              "      gap: 12px;\n",
              "    }\n",
              "\n",
              "    .colab-df-convert {\n",
              "      background-color: #E8F0FE;\n",
              "      border: none;\n",
              "      border-radius: 50%;\n",
              "      cursor: pointer;\n",
              "      display: none;\n",
              "      fill: #1967D2;\n",
              "      height: 32px;\n",
              "      padding: 0 0 0 0;\n",
              "      width: 32px;\n",
              "    }\n",
              "\n",
              "    .colab-df-convert:hover {\n",
              "      background-color: #E2EBFA;\n",
              "      box-shadow: 0px 1px 2px rgba(60, 64, 67, 0.3), 0px 1px 3px 1px rgba(60, 64, 67, 0.15);\n",
              "      fill: #174EA6;\n",
              "    }\n",
              "\n",
              "    [theme=dark] .colab-df-convert {\n",
              "      background-color: #3B4455;\n",
              "      fill: #D2E3FC;\n",
              "    }\n",
              "\n",
              "    [theme=dark] .colab-df-convert:hover {\n",
              "      background-color: #434B5C;\n",
              "      box-shadow: 0px 1px 3px 1px rgba(0, 0, 0, 0.15);\n",
              "      filter: drop-shadow(0px 1px 2px rgba(0, 0, 0, 0.3));\n",
              "      fill: #FFFFFF;\n",
              "    }\n",
              "  </style>\n",
              "\n",
              "      <script>\n",
              "        const buttonEl =\n",
              "          document.querySelector('#df-261e7d85-3102-4620-ae43-a3505f6f1ec0 button.colab-df-convert');\n",
              "        buttonEl.style.display =\n",
              "          google.colab.kernel.accessAllowed ? 'block' : 'none';\n",
              "\n",
              "        async function convertToInteractive(key) {\n",
              "          const element = document.querySelector('#df-261e7d85-3102-4620-ae43-a3505f6f1ec0');\n",
              "          const dataTable =\n",
              "            await google.colab.kernel.invokeFunction('convertToInteractive',\n",
              "                                                     [key], {});\n",
              "          if (!dataTable) return;\n",
              "\n",
              "          const docLinkHtml = 'Like what you see? Visit the ' +\n",
              "            '<a target=\"_blank\" href=https://colab.research.google.com/notebooks/data_table.ipynb>data table notebook</a>'\n",
              "            + ' to learn more about interactive tables.';\n",
              "          element.innerHTML = '';\n",
              "          dataTable['output_type'] = 'display_data';\n",
              "          await google.colab.output.renderOutput(dataTable, element);\n",
              "          const docLink = document.createElement('div');\n",
              "          docLink.innerHTML = docLinkHtml;\n",
              "          element.appendChild(docLink);\n",
              "        }\n",
              "      </script>\n",
              "    </div>\n",
              "  </div>\n",
              "  "
            ],
            "text/plain": [
              "   RANDID  TOTCHOL   AGE  SYSBP  DIABP  TIMEMI  CIGPDAY  TIME  STROKE   BMI\n",
              "0    2448    196.0  52.0  100.0   62.0  6438.0      0.0  4628     2.0   NaN\n",
              "1    6238    223.0  58.0  122.0   75.0  8766.0      0.0  4344     2.0  28.5\n",
              "2   11252    232.0  58.0  131.0   70.0  8766.0      0.0  4285     2.0  24.6\n",
              "3   11263    216.0  55.0  140.0   70.0  8766.0      0.0  4351     1.0  31.2\n",
              "4   12806    208.0  57.0  127.0   75.0  8766.0      0.0  4289     2.0  22.0"
            ]
          },
          "metadata": {},
          "execution_count": 65
        }
      ]
    },
    {
      "cell_type": "markdown",
      "source": [
        "The data contains missing values. So our first step will be to clean the data. Data cleaning is a crucial step because it will improve the quality of data which will lead to high productivity. when the data is clean, there will be no outdated or incorrect information."
      ],
      "metadata": {
        "id": "Rz2CueJ-_ix9"
      }
    },
    {
      "cell_type": "code",
      "source": [
        "df = dataset.copy()\n",
        "\n",
        "df = df.dropna()\n",
        "df.head()"
      ],
      "metadata": {
        "colab": {
          "base_uri": "https://localhost:8080/",
          "height": 206
        },
        "id": "asnpHsHzLfWC",
        "outputId": "2b57e18d-29fc-4302-ee5f-916557b24288"
      },
      "execution_count": 66,
      "outputs": [
        {
          "output_type": "execute_result",
          "data": {
            "text/html": [
              "\n",
              "  <div id=\"df-8c05ae1b-12ca-4a5e-8394-5b8c8dab7dab\">\n",
              "    <div class=\"colab-df-container\">\n",
              "      <div>\n",
              "<style scoped>\n",
              "    .dataframe tbody tr th:only-of-type {\n",
              "        vertical-align: middle;\n",
              "    }\n",
              "\n",
              "    .dataframe tbody tr th {\n",
              "        vertical-align: top;\n",
              "    }\n",
              "\n",
              "    .dataframe thead th {\n",
              "        text-align: right;\n",
              "    }\n",
              "</style>\n",
              "<table border=\"1\" class=\"dataframe\">\n",
              "  <thead>\n",
              "    <tr style=\"text-align: right;\">\n",
              "      <th></th>\n",
              "      <th>RANDID</th>\n",
              "      <th>TOTCHOL</th>\n",
              "      <th>AGE</th>\n",
              "      <th>SYSBP</th>\n",
              "      <th>DIABP</th>\n",
              "      <th>TIMEMI</th>\n",
              "      <th>CIGPDAY</th>\n",
              "      <th>TIME</th>\n",
              "      <th>STROKE</th>\n",
              "      <th>BMI</th>\n",
              "    </tr>\n",
              "  </thead>\n",
              "  <tbody>\n",
              "    <tr>\n",
              "      <th>1</th>\n",
              "      <td>6238</td>\n",
              "      <td>223.0</td>\n",
              "      <td>58.0</td>\n",
              "      <td>122.0</td>\n",
              "      <td>75.0</td>\n",
              "      <td>8766.0</td>\n",
              "      <td>0.0</td>\n",
              "      <td>4344</td>\n",
              "      <td>2.0</td>\n",
              "      <td>28.5</td>\n",
              "    </tr>\n",
              "    <tr>\n",
              "      <th>2</th>\n",
              "      <td>11252</td>\n",
              "      <td>232.0</td>\n",
              "      <td>58.0</td>\n",
              "      <td>131.0</td>\n",
              "      <td>70.0</td>\n",
              "      <td>8766.0</td>\n",
              "      <td>0.0</td>\n",
              "      <td>4285</td>\n",
              "      <td>2.0</td>\n",
              "      <td>24.6</td>\n",
              "    </tr>\n",
              "    <tr>\n",
              "      <th>3</th>\n",
              "      <td>11263</td>\n",
              "      <td>216.0</td>\n",
              "      <td>55.0</td>\n",
              "      <td>140.0</td>\n",
              "      <td>70.0</td>\n",
              "      <td>8766.0</td>\n",
              "      <td>0.0</td>\n",
              "      <td>4351</td>\n",
              "      <td>1.0</td>\n",
              "      <td>31.2</td>\n",
              "    </tr>\n",
              "    <tr>\n",
              "      <th>4</th>\n",
              "      <td>12806</td>\n",
              "      <td>208.0</td>\n",
              "      <td>57.0</td>\n",
              "      <td>127.0</td>\n",
              "      <td>75.0</td>\n",
              "      <td>8766.0</td>\n",
              "      <td>0.0</td>\n",
              "      <td>4289</td>\n",
              "      <td>2.0</td>\n",
              "      <td>22.0</td>\n",
              "    </tr>\n",
              "    <tr>\n",
              "      <th>5</th>\n",
              "      <td>14367</td>\n",
              "      <td>177.0</td>\n",
              "      <td>64.0</td>\n",
              "      <td>148.0</td>\n",
              "      <td>66.0</td>\n",
              "      <td>8766.0</td>\n",
              "      <td>18.0</td>\n",
              "      <td>4438</td>\n",
              "      <td>1.0</td>\n",
              "      <td>25.7</td>\n",
              "    </tr>\n",
              "  </tbody>\n",
              "</table>\n",
              "</div>\n",
              "      <button class=\"colab-df-convert\" onclick=\"convertToInteractive('df-8c05ae1b-12ca-4a5e-8394-5b8c8dab7dab')\"\n",
              "              title=\"Convert this dataframe to an interactive table.\"\n",
              "              style=\"display:none;\">\n",
              "        \n",
              "  <svg xmlns=\"http://www.w3.org/2000/svg\" height=\"24px\"viewBox=\"0 0 24 24\"\n",
              "       width=\"24px\">\n",
              "    <path d=\"M0 0h24v24H0V0z\" fill=\"none\"/>\n",
              "    <path d=\"M18.56 5.44l.94 2.06.94-2.06 2.06-.94-2.06-.94-.94-2.06-.94 2.06-2.06.94zm-11 1L8.5 8.5l.94-2.06 2.06-.94-2.06-.94L8.5 2.5l-.94 2.06-2.06.94zm10 10l.94 2.06.94-2.06 2.06-.94-2.06-.94-.94-2.06-.94 2.06-2.06.94z\"/><path d=\"M17.41 7.96l-1.37-1.37c-.4-.4-.92-.59-1.43-.59-.52 0-1.04.2-1.43.59L10.3 9.45l-7.72 7.72c-.78.78-.78 2.05 0 2.83L4 21.41c.39.39.9.59 1.41.59.51 0 1.02-.2 1.41-.59l7.78-7.78 2.81-2.81c.8-.78.8-2.07 0-2.86zM5.41 20L4 18.59l7.72-7.72 1.47 1.35L5.41 20z\"/>\n",
              "  </svg>\n",
              "      </button>\n",
              "      \n",
              "  <style>\n",
              "    .colab-df-container {\n",
              "      display:flex;\n",
              "      flex-wrap:wrap;\n",
              "      gap: 12px;\n",
              "    }\n",
              "\n",
              "    .colab-df-convert {\n",
              "      background-color: #E8F0FE;\n",
              "      border: none;\n",
              "      border-radius: 50%;\n",
              "      cursor: pointer;\n",
              "      display: none;\n",
              "      fill: #1967D2;\n",
              "      height: 32px;\n",
              "      padding: 0 0 0 0;\n",
              "      width: 32px;\n",
              "    }\n",
              "\n",
              "    .colab-df-convert:hover {\n",
              "      background-color: #E2EBFA;\n",
              "      box-shadow: 0px 1px 2px rgba(60, 64, 67, 0.3), 0px 1px 3px 1px rgba(60, 64, 67, 0.15);\n",
              "      fill: #174EA6;\n",
              "    }\n",
              "\n",
              "    [theme=dark] .colab-df-convert {\n",
              "      background-color: #3B4455;\n",
              "      fill: #D2E3FC;\n",
              "    }\n",
              "\n",
              "    [theme=dark] .colab-df-convert:hover {\n",
              "      background-color: #434B5C;\n",
              "      box-shadow: 0px 1px 3px 1px rgba(0, 0, 0, 0.15);\n",
              "      filter: drop-shadow(0px 1px 2px rgba(0, 0, 0, 0.3));\n",
              "      fill: #FFFFFF;\n",
              "    }\n",
              "  </style>\n",
              "\n",
              "      <script>\n",
              "        const buttonEl =\n",
              "          document.querySelector('#df-8c05ae1b-12ca-4a5e-8394-5b8c8dab7dab button.colab-df-convert');\n",
              "        buttonEl.style.display =\n",
              "          google.colab.kernel.accessAllowed ? 'block' : 'none';\n",
              "\n",
              "        async function convertToInteractive(key) {\n",
              "          const element = document.querySelector('#df-8c05ae1b-12ca-4a5e-8394-5b8c8dab7dab');\n",
              "          const dataTable =\n",
              "            await google.colab.kernel.invokeFunction('convertToInteractive',\n",
              "                                                     [key], {});\n",
              "          if (!dataTable) return;\n",
              "\n",
              "          const docLinkHtml = 'Like what you see? Visit the ' +\n",
              "            '<a target=\"_blank\" href=https://colab.research.google.com/notebooks/data_table.ipynb>data table notebook</a>'\n",
              "            + ' to learn more about interactive tables.';\n",
              "          element.innerHTML = '';\n",
              "          dataTable['output_type'] = 'display_data';\n",
              "          await google.colab.output.renderOutput(dataTable, element);\n",
              "          const docLink = document.createElement('div');\n",
              "          docLink.innerHTML = docLinkHtml;\n",
              "          element.appendChild(docLink);\n",
              "        }\n",
              "      </script>\n",
              "    </div>\n",
              "  </div>\n",
              "  "
            ],
            "text/plain": [
              "   RANDID  TOTCHOL   AGE  SYSBP  DIABP  TIMEMI  CIGPDAY  TIME  STROKE   BMI\n",
              "1    6238    223.0  58.0  122.0   75.0  8766.0      0.0  4344     2.0  28.5\n",
              "2   11252    232.0  58.0  131.0   70.0  8766.0      0.0  4285     2.0  24.6\n",
              "3   11263    216.0  55.0  140.0   70.0  8766.0      0.0  4351     1.0  31.2\n",
              "4   12806    208.0  57.0  127.0   75.0  8766.0      0.0  4289     2.0  22.0\n",
              "5   14367    177.0  64.0  148.0   66.0  8766.0     18.0  4438     1.0  25.7"
            ]
          },
          "metadata": {},
          "execution_count": 66
        }
      ]
    },
    {
      "cell_type": "markdown",
      "source": [
        "The dropna() functions drops or deletes all the NaN values that are present in the dataset."
      ],
      "metadata": {
        "id": "JzagnOQDAdaD"
      }
    },
    {
      "cell_type": "code",
      "source": [
        "df.count() #counting all the values in the column"
      ],
      "metadata": {
        "colab": {
          "base_uri": "https://localhost:8080/"
        },
        "id": "r9vLbZVvLoVp",
        "outputId": "0b4ad987-12ed-4c2b-aaf2-e2e97a517cfa"
      },
      "execution_count": 67,
      "outputs": [
        {
          "output_type": "execute_result",
          "data": {
            "text/plain": [
              "RANDID     596\n",
              "TOTCHOL    596\n",
              "AGE        596\n",
              "SYSBP      596\n",
              "DIABP      596\n",
              "TIMEMI     596\n",
              "CIGPDAY    596\n",
              "TIME       596\n",
              "STROKE     596\n",
              "BMI        596\n",
              "dtype: int64"
            ]
          },
          "metadata": {},
          "execution_count": 67
        }
      ]
    },
    {
      "cell_type": "code",
      "source": [
        "df.info() # using this method for printing information about a dataframe which includes \n",
        "#the index dtype and column dtypes, non-null values and memory usage"
      ],
      "metadata": {
        "colab": {
          "base_uri": "https://localhost:8080/"
        },
        "id": "VrYH--VqLtcT",
        "outputId": "3df123a4-f720-4de2-fcb7-115b0dbfad7e"
      },
      "execution_count": 68,
      "outputs": [
        {
          "output_type": "stream",
          "name": "stdout",
          "text": [
            "<class 'pandas.core.frame.DataFrame'>\n",
            "Int64Index: 596 entries, 1 to 618\n",
            "Data columns (total 10 columns):\n",
            " #   Column   Non-Null Count  Dtype  \n",
            "---  ------   --------------  -----  \n",
            " 0   RANDID   596 non-null    int64  \n",
            " 1   TOTCHOL  596 non-null    float64\n",
            " 2   AGE      596 non-null    float64\n",
            " 3   SYSBP    596 non-null    float64\n",
            " 4   DIABP    596 non-null    float64\n",
            " 5   TIMEMI   596 non-null    float64\n",
            " 6   CIGPDAY  596 non-null    float64\n",
            " 7   TIME     596 non-null    int64  \n",
            " 8   STROKE   596 non-null    float64\n",
            " 9   BMI      596 non-null    float64\n",
            "dtypes: float64(8), int64(2)\n",
            "memory usage: 51.2 KB\n"
          ]
        }
      ]
    },
    {
      "cell_type": "code",
      "source": [
        "df.describe().T"
      ],
      "metadata": {
        "colab": {
          "base_uri": "https://localhost:8080/",
          "height": 363
        },
        "id": "D6-39z4cLy_r",
        "outputId": "8b1dce64-b96c-4122-97be-d747cd541c47"
      },
      "execution_count": 69,
      "outputs": [
        {
          "output_type": "execute_result",
          "data": {
            "text/html": [
              "\n",
              "  <div id=\"df-4baaf987-f569-4e88-b9d8-6eb70bc5db32\">\n",
              "    <div class=\"colab-df-container\">\n",
              "      <div>\n",
              "<style scoped>\n",
              "    .dataframe tbody tr th:only-of-type {\n",
              "        vertical-align: middle;\n",
              "    }\n",
              "\n",
              "    .dataframe tbody tr th {\n",
              "        vertical-align: top;\n",
              "    }\n",
              "\n",
              "    .dataframe thead th {\n",
              "        text-align: right;\n",
              "    }\n",
              "</style>\n",
              "<table border=\"1\" class=\"dataframe\">\n",
              "  <thead>\n",
              "    <tr style=\"text-align: right;\">\n",
              "      <th></th>\n",
              "      <th>count</th>\n",
              "      <th>mean</th>\n",
              "      <th>std</th>\n",
              "      <th>min</th>\n",
              "      <th>25%</th>\n",
              "      <th>50%</th>\n",
              "      <th>75%</th>\n",
              "      <th>max</th>\n",
              "    </tr>\n",
              "  </thead>\n",
              "  <tbody>\n",
              "    <tr>\n",
              "      <th>RANDID</th>\n",
              "      <td>596.0</td>\n",
              "      <td>927867.114094</td>\n",
              "      <td>518676.855985</td>\n",
              "      <td>6238.0</td>\n",
              "      <td>523319.25</td>\n",
              "      <td>928740.00</td>\n",
              "      <td>1363692.250</td>\n",
              "      <td>1833245.0</td>\n",
              "    </tr>\n",
              "    <tr>\n",
              "      <th>TOTCHOL</th>\n",
              "      <td>596.0</td>\n",
              "      <td>216.236577</td>\n",
              "      <td>39.478909</td>\n",
              "      <td>135.0</td>\n",
              "      <td>190.00</td>\n",
              "      <td>209.50</td>\n",
              "      <td>232.000</td>\n",
              "      <td>390.0</td>\n",
              "    </tr>\n",
              "    <tr>\n",
              "      <th>AGE</th>\n",
              "      <td>596.0</td>\n",
              "      <td>60.231544</td>\n",
              "      <td>8.313202</td>\n",
              "      <td>45.0</td>\n",
              "      <td>53.00</td>\n",
              "      <td>59.00</td>\n",
              "      <td>67.000</td>\n",
              "      <td>79.0</td>\n",
              "    </tr>\n",
              "    <tr>\n",
              "      <th>SYSBP</th>\n",
              "      <td>596.0</td>\n",
              "      <td>137.071309</td>\n",
              "      <td>25.936970</td>\n",
              "      <td>94.0</td>\n",
              "      <td>119.00</td>\n",
              "      <td>130.00</td>\n",
              "      <td>152.000</td>\n",
              "      <td>254.0</td>\n",
              "    </tr>\n",
              "    <tr>\n",
              "      <th>DIABP</th>\n",
              "      <td>596.0</td>\n",
              "      <td>77.594799</td>\n",
              "      <td>12.241642</td>\n",
              "      <td>30.0</td>\n",
              "      <td>70.00</td>\n",
              "      <td>75.50</td>\n",
              "      <td>83.625</td>\n",
              "      <td>119.0</td>\n",
              "    </tr>\n",
              "    <tr>\n",
              "      <th>TIMEMI</th>\n",
              "      <td>596.0</td>\n",
              "      <td>8082.177852</td>\n",
              "      <td>1437.188279</td>\n",
              "      <td>27.0</td>\n",
              "      <td>8411.25</td>\n",
              "      <td>8766.00</td>\n",
              "      <td>8766.000</td>\n",
              "      <td>8766.0</td>\n",
              "    </tr>\n",
              "    <tr>\n",
              "      <th>CIGPDAY</th>\n",
              "      <td>596.0</td>\n",
              "      <td>3.567114</td>\n",
              "      <td>8.415703</td>\n",
              "      <td>0.0</td>\n",
              "      <td>0.00</td>\n",
              "      <td>0.00</td>\n",
              "      <td>0.000</td>\n",
              "      <td>40.0</td>\n",
              "    </tr>\n",
              "    <tr>\n",
              "      <th>TIME</th>\n",
              "      <td>596.0</td>\n",
              "      <td>4345.833893</td>\n",
              "      <td>93.368364</td>\n",
              "      <td>3938.0</td>\n",
              "      <td>4300.75</td>\n",
              "      <td>4359.00</td>\n",
              "      <td>4397.000</td>\n",
              "      <td>4703.0</td>\n",
              "    </tr>\n",
              "    <tr>\n",
              "      <th>STROKE</th>\n",
              "      <td>596.0</td>\n",
              "      <td>1.498322</td>\n",
              "      <td>0.500417</td>\n",
              "      <td>1.0</td>\n",
              "      <td>1.00</td>\n",
              "      <td>1.00</td>\n",
              "      <td>2.000</td>\n",
              "      <td>2.0</td>\n",
              "    </tr>\n",
              "    <tr>\n",
              "      <th>BMI</th>\n",
              "      <td>596.0</td>\n",
              "      <td>25.870638</td>\n",
              "      <td>4.330776</td>\n",
              "      <td>15.2</td>\n",
              "      <td>22.90</td>\n",
              "      <td>25.55</td>\n",
              "      <td>28.000</td>\n",
              "      <td>48.6</td>\n",
              "    </tr>\n",
              "  </tbody>\n",
              "</table>\n",
              "</div>\n",
              "      <button class=\"colab-df-convert\" onclick=\"convertToInteractive('df-4baaf987-f569-4e88-b9d8-6eb70bc5db32')\"\n",
              "              title=\"Convert this dataframe to an interactive table.\"\n",
              "              style=\"display:none;\">\n",
              "        \n",
              "  <svg xmlns=\"http://www.w3.org/2000/svg\" height=\"24px\"viewBox=\"0 0 24 24\"\n",
              "       width=\"24px\">\n",
              "    <path d=\"M0 0h24v24H0V0z\" fill=\"none\"/>\n",
              "    <path d=\"M18.56 5.44l.94 2.06.94-2.06 2.06-.94-2.06-.94-.94-2.06-.94 2.06-2.06.94zm-11 1L8.5 8.5l.94-2.06 2.06-.94-2.06-.94L8.5 2.5l-.94 2.06-2.06.94zm10 10l.94 2.06.94-2.06 2.06-.94-2.06-.94-.94-2.06-.94 2.06-2.06.94z\"/><path d=\"M17.41 7.96l-1.37-1.37c-.4-.4-.92-.59-1.43-.59-.52 0-1.04.2-1.43.59L10.3 9.45l-7.72 7.72c-.78.78-.78 2.05 0 2.83L4 21.41c.39.39.9.59 1.41.59.51 0 1.02-.2 1.41-.59l7.78-7.78 2.81-2.81c.8-.78.8-2.07 0-2.86zM5.41 20L4 18.59l7.72-7.72 1.47 1.35L5.41 20z\"/>\n",
              "  </svg>\n",
              "      </button>\n",
              "      \n",
              "  <style>\n",
              "    .colab-df-container {\n",
              "      display:flex;\n",
              "      flex-wrap:wrap;\n",
              "      gap: 12px;\n",
              "    }\n",
              "\n",
              "    .colab-df-convert {\n",
              "      background-color: #E8F0FE;\n",
              "      border: none;\n",
              "      border-radius: 50%;\n",
              "      cursor: pointer;\n",
              "      display: none;\n",
              "      fill: #1967D2;\n",
              "      height: 32px;\n",
              "      padding: 0 0 0 0;\n",
              "      width: 32px;\n",
              "    }\n",
              "\n",
              "    .colab-df-convert:hover {\n",
              "      background-color: #E2EBFA;\n",
              "      box-shadow: 0px 1px 2px rgba(60, 64, 67, 0.3), 0px 1px 3px 1px rgba(60, 64, 67, 0.15);\n",
              "      fill: #174EA6;\n",
              "    }\n",
              "\n",
              "    [theme=dark] .colab-df-convert {\n",
              "      background-color: #3B4455;\n",
              "      fill: #D2E3FC;\n",
              "    }\n",
              "\n",
              "    [theme=dark] .colab-df-convert:hover {\n",
              "      background-color: #434B5C;\n",
              "      box-shadow: 0px 1px 3px 1px rgba(0, 0, 0, 0.15);\n",
              "      filter: drop-shadow(0px 1px 2px rgba(0, 0, 0, 0.3));\n",
              "      fill: #FFFFFF;\n",
              "    }\n",
              "  </style>\n",
              "\n",
              "      <script>\n",
              "        const buttonEl =\n",
              "          document.querySelector('#df-4baaf987-f569-4e88-b9d8-6eb70bc5db32 button.colab-df-convert');\n",
              "        buttonEl.style.display =\n",
              "          google.colab.kernel.accessAllowed ? 'block' : 'none';\n",
              "\n",
              "        async function convertToInteractive(key) {\n",
              "          const element = document.querySelector('#df-4baaf987-f569-4e88-b9d8-6eb70bc5db32');\n",
              "          const dataTable =\n",
              "            await google.colab.kernel.invokeFunction('convertToInteractive',\n",
              "                                                     [key], {});\n",
              "          if (!dataTable) return;\n",
              "\n",
              "          const docLinkHtml = 'Like what you see? Visit the ' +\n",
              "            '<a target=\"_blank\" href=https://colab.research.google.com/notebooks/data_table.ipynb>data table notebook</a>'\n",
              "            + ' to learn more about interactive tables.';\n",
              "          element.innerHTML = '';\n",
              "          dataTable['output_type'] = 'display_data';\n",
              "          await google.colab.output.renderOutput(dataTable, element);\n",
              "          const docLink = document.createElement('div');\n",
              "          docLink.innerHTML = docLinkHtml;\n",
              "          element.appendChild(docLink);\n",
              "        }\n",
              "      </script>\n",
              "    </div>\n",
              "  </div>\n",
              "  "
            ],
            "text/plain": [
              "         count           mean            std  ...        50%          75%        max\n",
              "RANDID   596.0  927867.114094  518676.855985  ...  928740.00  1363692.250  1833245.0\n",
              "TOTCHOL  596.0     216.236577      39.478909  ...     209.50      232.000      390.0\n",
              "AGE      596.0      60.231544       8.313202  ...      59.00       67.000       79.0\n",
              "SYSBP    596.0     137.071309      25.936970  ...     130.00      152.000      254.0\n",
              "DIABP    596.0      77.594799      12.241642  ...      75.50       83.625      119.0\n",
              "TIMEMI   596.0    8082.177852    1437.188279  ...    8766.00     8766.000     8766.0\n",
              "CIGPDAY  596.0       3.567114       8.415703  ...       0.00        0.000       40.0\n",
              "TIME     596.0    4345.833893      93.368364  ...    4359.00     4397.000     4703.0\n",
              "STROKE   596.0       1.498322       0.500417  ...       1.00        2.000        2.0\n",
              "BMI      596.0      25.870638       4.330776  ...      25.55       28.000       48.6\n",
              "\n",
              "[10 rows x 8 columns]"
            ]
          },
          "metadata": {},
          "execution_count": 69
        }
      ]
    },
    {
      "cell_type": "markdown",
      "source": [
        "Plotting the number of strokes in the dataset and the total strokes"
      ],
      "metadata": {
        "id": "U4rvVPCOMECV"
      }
    },
    {
      "cell_type": "code",
      "source": [
        "import matplotlib.pyplot as plt\n",
        "import seaborn as sns\n",
        "sns.set_theme(style=\"whitegrid\")\n",
        "\n",
        "f, (ax1, ax2) = plt.subplots(1, 2, figsize=(17,7))\n",
        "\n",
        "ax1.pie(x=df['STROKE'].value_counts(), labels=df['STROKE'].value_counts().index.map({0:'Not Stroke', 1:'Stroke'}), autopct='%1.1f%%')\n",
        "ax1.legend(\n",
        "    title='Status',\n",
        "    loc = 'lower right')\n",
        "ax1.set_title('Distribution of Strokes')\n",
        "\n",
        "plots = sns.barplot(x=df['STROKE'].value_counts().index.map({0:'Not Stroke', 1:'Stroke'}), y=df['STROKE'].value_counts(), ax=ax2)\n",
        "for bar in plots.patches:\n",
        "    plots.annotate(format(bar.get_height(), '.0f'), (bar.get_x() + bar.get_width() / 2, bar.get_height()), ha='center', va='center', xytext=(0, 8), textcoords='offset points')\n",
        "ax2.set_ylabel('Total')\n",
        "ax2.set_title('Total Strokes')\n",
        "\n",
        "plt.show()"
      ],
      "metadata": {
        "colab": {
          "base_uri": "https://localhost:8080/",
          "height": 447
        },
        "id": "jaOqCaW_SQvG",
        "outputId": "7cb22522-a646-4c01-c0fb-ee6f86d86073"
      },
      "execution_count": 70,
      "outputs": [
        {
          "output_type": "display_data",
          "data": {
            "image/png": "[encoded data removed]",
            "text/plain": [
              "<Figure size 1224x504 with 2 Axes>"
            ]
          },
          "metadata": {}
        }
      ]
    },
    {
      "cell_type": "code",
      "source": [
        "df_stroked = df[df['STROKE'] == 1].reset_index(drop=True)\n",
        "df_stroked\n"
      ],
      "metadata": {
        "colab": {
          "base_uri": "https://localhost:8080/",
          "height": 424
        },
        "id": "7GXOyVMFTYOv",
        "outputId": "54a4216a-73bf-4719-ce68-91ee6e5c1202"
      },
      "execution_count": 71,
      "outputs": [
        {
          "output_type": "execute_result",
          "data": {
            "text/html": [
              "\n",
              "  <div id=\"df-b69702e4-6351-4666-91ac-f3fdd13a2888\">\n",
              "    <div class=\"colab-df-container\">\n",
              "      <div>\n",
              "<style scoped>\n",
              "    .dataframe tbody tr th:only-of-type {\n",
              "        vertical-align: middle;\n",
              "    }\n",
              "\n",
              "    .dataframe tbody tr th {\n",
              "        vertical-align: top;\n",
              "    }\n",
              "\n",
              "    .dataframe thead th {\n",
              "        text-align: right;\n",
              "    }\n",
              "</style>\n",
              "<table border=\"1\" class=\"dataframe\">\n",
              "  <thead>\n",
              "    <tr style=\"text-align: right;\">\n",
              "      <th></th>\n",
              "      <th>RANDID</th>\n",
              "      <th>TOTCHOL</th>\n",
              "      <th>AGE</th>\n",
              "      <th>SYSBP</th>\n",
              "      <th>DIABP</th>\n",
              "      <th>TIMEMI</th>\n",
              "      <th>CIGPDAY</th>\n",
              "      <th>TIME</th>\n",
              "      <th>STROKE</th>\n",
              "      <th>BMI</th>\n",
              "    </tr>\n",
              "  </thead>\n",
              "  <tbody>\n",
              "    <tr>\n",
              "      <th>0</th>\n",
              "      <td>11263</td>\n",
              "      <td>216.0</td>\n",
              "      <td>55.0</td>\n",
              "      <td>140.0</td>\n",
              "      <td>70.0</td>\n",
              "      <td>8766.0</td>\n",
              "      <td>0.0</td>\n",
              "      <td>4351</td>\n",
              "      <td>1.0</td>\n",
              "      <td>31.2</td>\n",
              "    </tr>\n",
              "    <tr>\n",
              "      <th>1</th>\n",
              "      <td>14367</td>\n",
              "      <td>177.0</td>\n",
              "      <td>64.0</td>\n",
              "      <td>148.0</td>\n",
              "      <td>66.0</td>\n",
              "      <td>8766.0</td>\n",
              "      <td>18.0</td>\n",
              "      <td>4438</td>\n",
              "      <td>1.0</td>\n",
              "      <td>25.7</td>\n",
              "    </tr>\n",
              "    <tr>\n",
              "      <th>2</th>\n",
              "      <td>16799</td>\n",
              "      <td>207.0</td>\n",
              "      <td>62.0</td>\n",
              "      <td>165.0</td>\n",
              "      <td>91.0</td>\n",
              "      <td>8766.0</td>\n",
              "      <td>30.0</td>\n",
              "      <td>4431</td>\n",
              "      <td>1.0</td>\n",
              "      <td>22.0</td>\n",
              "    </tr>\n",
              "    <tr>\n",
              "      <th>3</th>\n",
              "      <td>24721</td>\n",
              "      <td>168.0</td>\n",
              "      <td>51.0</td>\n",
              "      <td>145.0</td>\n",
              "      <td>73.0</td>\n",
              "      <td>6411.0</td>\n",
              "      <td>20.0</td>\n",
              "      <td>4408</td>\n",
              "      <td>1.0</td>\n",
              "      <td>24.8</td>\n",
              "    </tr>\n",
              "    <tr>\n",
              "      <th>4</th>\n",
              "      <td>45464</td>\n",
              "      <td>232.0</td>\n",
              "      <td>64.0</td>\n",
              "      <td>161.0</td>\n",
              "      <td>78.0</td>\n",
              "      <td>8766.0</td>\n",
              "      <td>0.0</td>\n",
              "      <td>4368</td>\n",
              "      <td>1.0</td>\n",
              "      <td>24.0</td>\n",
              "    </tr>\n",
              "    <tr>\n",
              "      <th>...</th>\n",
              "      <td>...</td>\n",
              "      <td>...</td>\n",
              "      <td>...</td>\n",
              "      <td>...</td>\n",
              "      <td>...</td>\n",
              "      <td>...</td>\n",
              "      <td>...</td>\n",
              "      <td>...</td>\n",
              "      <td>...</td>\n",
              "      <td>...</td>\n",
              "    </tr>\n",
              "    <tr>\n",
              "      <th>294</th>\n",
              "      <td>1811847</td>\n",
              "      <td>242.0</td>\n",
              "      <td>48.0</td>\n",
              "      <td>167.0</td>\n",
              "      <td>82.0</td>\n",
              "      <td>8766.0</td>\n",
              "      <td>0.0</td>\n",
              "      <td>4548</td>\n",
              "      <td>1.0</td>\n",
              "      <td>21.6</td>\n",
              "    </tr>\n",
              "    <tr>\n",
              "      <th>295</th>\n",
              "      <td>1828967</td>\n",
              "      <td>201.0</td>\n",
              "      <td>59.0</td>\n",
              "      <td>149.0</td>\n",
              "      <td>80.0</td>\n",
              "      <td>8766.0</td>\n",
              "      <td>0.0</td>\n",
              "      <td>4285</td>\n",
              "      <td>1.0</td>\n",
              "      <td>30.5</td>\n",
              "    </tr>\n",
              "    <tr>\n",
              "      <th>296</th>\n",
              "      <td>1829622</td>\n",
              "      <td>212.0</td>\n",
              "      <td>61.0</td>\n",
              "      <td>187.0</td>\n",
              "      <td>105.0</td>\n",
              "      <td>8766.0</td>\n",
              "      <td>0.0</td>\n",
              "      <td>4287</td>\n",
              "      <td>1.0</td>\n",
              "      <td>22.7</td>\n",
              "    </tr>\n",
              "    <tr>\n",
              "      <th>297</th>\n",
              "      <td>1831641</td>\n",
              "      <td>306.0</td>\n",
              "      <td>70.0</td>\n",
              "      <td>170.0</td>\n",
              "      <td>85.0</td>\n",
              "      <td>8766.0</td>\n",
              "      <td>0.0</td>\n",
              "      <td>4365</td>\n",
              "      <td>1.0</td>\n",
              "      <td>24.1</td>\n",
              "    </tr>\n",
              "    <tr>\n",
              "      <th>298</th>\n",
              "      <td>1833245</td>\n",
              "      <td>159.0</td>\n",
              "      <td>66.0</td>\n",
              "      <td>170.0</td>\n",
              "      <td>96.0</td>\n",
              "      <td>8766.0</td>\n",
              "      <td>18.0</td>\n",
              "      <td>4295</td>\n",
              "      <td>1.0</td>\n",
              "      <td>24.0</td>\n",
              "    </tr>\n",
              "  </tbody>\n",
              "</table>\n",
              "<p>299 rows × 10 columns</p>\n",
              "</div>\n",
              "      <button class=\"colab-df-convert\" onclick=\"convertToInteractive('df-b69702e4-6351-4666-91ac-f3fdd13a2888')\"\n",
              "              title=\"Convert this dataframe to an interactive table.\"\n",
              "              style=\"display:none;\">\n",
              "        \n",
              "  <svg xmlns=\"http://www.w3.org/2000/svg\" height=\"24px\"viewBox=\"0 0 24 24\"\n",
              "       width=\"24px\">\n",
              "    <path d=\"M0 0h24v24H0V0z\" fill=\"none\"/>\n",
              "    <path d=\"M18.56 5.44l.94 2.06.94-2.06 2.06-.94-2.06-.94-.94-2.06-.94 2.06-2.06.94zm-11 1L8.5 8.5l.94-2.06 2.06-.94-2.06-.94L8.5 2.5l-.94 2.06-2.06.94zm10 10l.94 2.06.94-2.06 2.06-.94-2.06-.94-.94-2.06-.94 2.06-2.06.94z\"/><path d=\"M17.41 7.96l-1.37-1.37c-.4-.4-.92-.59-1.43-.59-.52 0-1.04.2-1.43.59L10.3 9.45l-7.72 7.72c-.78.78-.78 2.05 0 2.83L4 21.41c.39.39.9.59 1.41.59.51 0 1.02-.2 1.41-.59l7.78-7.78 2.81-2.81c.8-.78.8-2.07 0-2.86zM5.41 20L4 18.59l7.72-7.72 1.47 1.35L5.41 20z\"/>\n",
              "  </svg>\n",
              "      </button>\n",
              "      \n",
              "  <style>\n",
              "    .colab-df-container {\n",
              "      display:flex;\n",
              "      flex-wrap:wrap;\n",
              "      gap: 12px;\n",
              "    }\n",
              "\n",
              "    .colab-df-convert {\n",
              "      background-color: #E8F0FE;\n",
              "      border: none;\n",
              "      border-radius: 50%;\n",
              "      cursor: pointer;\n",
              "      display: none;\n",
              "      fill: #1967D2;\n",
              "      height: 32px;\n",
              "      padding: 0 0 0 0;\n",
              "      width: 32px;\n",
              "    }\n",
              "\n",
              "    .colab-df-convert:hover {\n",
              "      background-color: #E2EBFA;\n",
              "      box-shadow: 0px 1px 2px rgba(60, 64, 67, 0.3), 0px 1px 3px 1px rgba(60, 64, 67, 0.15);\n",
              "      fill: #174EA6;\n",
              "    }\n",
              "\n",
              "    [theme=dark] .colab-df-convert {\n",
              "      background-color: #3B4455;\n",
              "      fill: #D2E3FC;\n",
              "    }\n",
              "\n",
              "    [theme=dark] .colab-df-convert:hover {\n",
              "      background-color: #434B5C;\n",
              "      box-shadow: 0px 1px 3px 1px rgba(0, 0, 0, 0.15);\n",
              "      filter: drop-shadow(0px 1px 2px rgba(0, 0, 0, 0.3));\n",
              "      fill: #FFFFFF;\n",
              "    }\n",
              "  </style>\n",
              "\n",
              "      <script>\n",
              "        const buttonEl =\n",
              "          document.querySelector('#df-b69702e4-6351-4666-91ac-f3fdd13a2888 button.colab-df-convert');\n",
              "        buttonEl.style.display =\n",
              "          google.colab.kernel.accessAllowed ? 'block' : 'none';\n",
              "\n",
              "        async function convertToInteractive(key) {\n",
              "          const element = document.querySelector('#df-b69702e4-6351-4666-91ac-f3fdd13a2888');\n",
              "          const dataTable =\n",
              "            await google.colab.kernel.invokeFunction('convertToInteractive',\n",
              "                                                     [key], {});\n",
              "          if (!dataTable) return;\n",
              "\n",
              "          const docLinkHtml = 'Like what you see? Visit the ' +\n",
              "            '<a target=\"_blank\" href=https://colab.research.google.com/notebooks/data_table.ipynb>data table notebook</a>'\n",
              "            + ' to learn more about interactive tables.';\n",
              "          element.innerHTML = '';\n",
              "          dataTable['output_type'] = 'display_data';\n",
              "          await google.colab.output.renderOutput(dataTable, element);\n",
              "          const docLink = document.createElement('div');\n",
              "          docLink.innerHTML = docLinkHtml;\n",
              "          element.appendChild(docLink);\n",
              "        }\n",
              "      </script>\n",
              "    </div>\n",
              "  </div>\n",
              "  "
            ],
            "text/plain": [
              "      RANDID  TOTCHOL   AGE  SYSBP  DIABP  TIMEMI  CIGPDAY  TIME  STROKE   BMI\n",
              "0      11263    216.0  55.0  140.0   70.0  8766.0      0.0  4351     1.0  31.2\n",
              "1      14367    177.0  64.0  148.0   66.0  8766.0     18.0  4438     1.0  25.7\n",
              "2      16799    207.0  62.0  165.0   91.0  8766.0     30.0  4431     1.0  22.0\n",
              "3      24721    168.0  51.0  145.0   73.0  6411.0     20.0  4408     1.0  24.8\n",
              "4      45464    232.0  64.0  161.0   78.0  8766.0      0.0  4368     1.0  24.0\n",
              "..       ...      ...   ...    ...    ...     ...      ...   ...     ...   ...\n",
              "294  1811847    242.0  48.0  167.0   82.0  8766.0      0.0  4548     1.0  21.6\n",
              "295  1828967    201.0  59.0  149.0   80.0  8766.0      0.0  4285     1.0  30.5\n",
              "296  1829622    212.0  61.0  187.0  105.0  8766.0      0.0  4287     1.0  22.7\n",
              "297  1831641    306.0  70.0  170.0   85.0  8766.0      0.0  4365     1.0  24.1\n",
              "298  1833245    159.0  66.0  170.0   96.0  8766.0     18.0  4295     1.0  24.0\n",
              "\n",
              "[299 rows x 10 columns]"
            ]
          },
          "metadata": {},
          "execution_count": 71
        }
      ]
    },
    {
      "cell_type": "markdown",
      "source": [
        "Plotting the distribution of age "
      ],
      "metadata": {
        "id": "eFnExmqFMOrB"
      }
    },
    {
      "cell_type": "code",
      "source": [
        "sns.histplot(df_stroked['AGE'], bins=4)\n",
        "plt.xlabel('age')\n",
        "plt.ylabel('total')\n",
        "plt.title('Distribution of Stroke Based on Age')\n",
        "plt.show()"
      ],
      "metadata": {
        "colab": {
          "base_uri": "https://localhost:8080/",
          "height": 301
        },
        "id": "COxMqs2ETA_C",
        "outputId": "4dbe7ecd-47be-42cd-eca7-d8f7181be286"
      },
      "execution_count": 72,
      "outputs": [
        {
          "output_type": "display_data",
          "data": {
            "image/png": "[encoded data removed]",
            "text/plain": [
              "<Figure size 432x288 with 1 Axes>"
            ]
          },
          "metadata": {}
        }
      ]
    },
    {
      "cell_type": "markdown",
      "source": [
        "plotting the relation between bmi and age in the dataset"
      ],
      "metadata": {
        "id": "R-cNMe6DMTeE"
      }
    },
    {
      "cell_type": "code",
      "source": [
        "f, (ax1, ax2) = plt.subplots(1, 2, sharey=True, figsize=(20,5))\n",
        "\n",
        "sns.scatterplot(x=df_stroked['AGE'], y=df_stroked['DIABP'], ax=ax1)\n",
        "ax1.set_xlabel('AGE')\n",
        "ax1.set_ylabel('DIABP')\n",
        "ax1.set_title('DIABP - AGE')\n",
        "\n",
        "sns.scatterplot(x=df_stroked['AGE'], y=df_stroked['BMI'], ax=ax2)\n",
        "ax2.set_xlabel('AGE')\n",
        "ax2.set_ylabel('BMI')\n",
        "ax2.set_title('BMI - AGE')\n",
        "\n",
        "plt.show()"
      ],
      "metadata": {
        "colab": {
          "base_uri": "https://localhost:8080/",
          "height": 355
        },
        "id": "OEXDJ1X2ToMC",
        "outputId": "06ab6eb6-9542-4881-f5e1-dcd130b9dab5"
      },
      "execution_count": 73,
      "outputs": [
        {
          "output_type": "display_data",
          "data": {
            "image/png": "[encoded data removed]",
            "text/plain": [
              "<Figure size 1440x360 with 2 Axes>"
            ]
          },
          "metadata": {}
        }
      ]
    },
    {
      "cell_type": "code",
      "source": [
        "#Removing Outliers\n",
        "q = df_stroked['AGE'].quantile(0.01)\n",
        "df_stroked = df_stroked[df_stroked['AGE'] > q].reset_index(drop=True)\n",
        "df_stroked"
      ],
      "metadata": {
        "colab": {
          "base_uri": "https://localhost:8080/",
          "height": 424
        },
        "id": "CLtjBADgUfsx",
        "outputId": "884107fc-c039-411a-cfc4-798eaaa8b7cb"
      },
      "execution_count": 74,
      "outputs": [
        {
          "output_type": "execute_result",
          "data": {
            "text/html": [
              "\n",
              "  <div id=\"df-13c95461-a665-405b-ae5c-c3d7d7cb01a3\">\n",
              "    <div class=\"colab-df-container\">\n",
              "      <div>\n",
              "<style scoped>\n",
              "    .dataframe tbody tr th:only-of-type {\n",
              "        vertical-align: middle;\n",
              "    }\n",
              "\n",
              "    .dataframe tbody tr th {\n",
              "        vertical-align: top;\n",
              "    }\n",
              "\n",
              "    .dataframe thead th {\n",
              "        text-align: right;\n",
              "    }\n",
              "</style>\n",
              "<table border=\"1\" class=\"dataframe\">\n",
              "  <thead>\n",
              "    <tr style=\"text-align: right;\">\n",
              "      <th></th>\n",
              "      <th>RANDID</th>\n",
              "      <th>TOTCHOL</th>\n",
              "      <th>AGE</th>\n",
              "      <th>SYSBP</th>\n",
              "      <th>DIABP</th>\n",
              "      <th>TIMEMI</th>\n",
              "      <th>CIGPDAY</th>\n",
              "      <th>TIME</th>\n",
              "      <th>STROKE</th>\n",
              "      <th>BMI</th>\n",
              "    </tr>\n",
              "  </thead>\n",
              "  <tbody>\n",
              "    <tr>\n",
              "      <th>0</th>\n",
              "      <td>11263</td>\n",
              "      <td>216.0</td>\n",
              "      <td>55.0</td>\n",
              "      <td>140.0</td>\n",
              "      <td>70.0</td>\n",
              "      <td>8766.0</td>\n",
              "      <td>0.0</td>\n",
              "      <td>4351</td>\n",
              "      <td>1.0</td>\n",
              "      <td>31.2</td>\n",
              "    </tr>\n",
              "    <tr>\n",
              "      <th>1</th>\n",
              "      <td>14367</td>\n",
              "      <td>177.0</td>\n",
              "      <td>64.0</td>\n",
              "      <td>148.0</td>\n",
              "      <td>66.0</td>\n",
              "      <td>8766.0</td>\n",
              "      <td>18.0</td>\n",
              "      <td>4438</td>\n",
              "      <td>1.0</td>\n",
              "      <td>25.7</td>\n",
              "    </tr>\n",
              "    <tr>\n",
              "      <th>2</th>\n",
              "      <td>16799</td>\n",
              "      <td>207.0</td>\n",
              "      <td>62.0</td>\n",
              "      <td>165.0</td>\n",
              "      <td>91.0</td>\n",
              "      <td>8766.0</td>\n",
              "      <td>30.0</td>\n",
              "      <td>4431</td>\n",
              "      <td>1.0</td>\n",
              "      <td>22.0</td>\n",
              "    </tr>\n",
              "    <tr>\n",
              "      <th>3</th>\n",
              "      <td>24721</td>\n",
              "      <td>168.0</td>\n",
              "      <td>51.0</td>\n",
              "      <td>145.0</td>\n",
              "      <td>73.0</td>\n",
              "      <td>6411.0</td>\n",
              "      <td>20.0</td>\n",
              "      <td>4408</td>\n",
              "      <td>1.0</td>\n",
              "      <td>24.8</td>\n",
              "    </tr>\n",
              "    <tr>\n",
              "      <th>4</th>\n",
              "      <td>45464</td>\n",
              "      <td>232.0</td>\n",
              "      <td>64.0</td>\n",
              "      <td>161.0</td>\n",
              "      <td>78.0</td>\n",
              "      <td>8766.0</td>\n",
              "      <td>0.0</td>\n",
              "      <td>4368</td>\n",
              "      <td>1.0</td>\n",
              "      <td>24.0</td>\n",
              "    </tr>\n",
              "    <tr>\n",
              "      <th>...</th>\n",
              "      <td>...</td>\n",
              "      <td>...</td>\n",
              "      <td>...</td>\n",
              "      <td>...</td>\n",
              "      <td>...</td>\n",
              "      <td>...</td>\n",
              "      <td>...</td>\n",
              "      <td>...</td>\n",
              "      <td>...</td>\n",
              "      <td>...</td>\n",
              "    </tr>\n",
              "    <tr>\n",
              "      <th>289</th>\n",
              "      <td>1811847</td>\n",
              "      <td>242.0</td>\n",
              "      <td>48.0</td>\n",
              "      <td>167.0</td>\n",
              "      <td>82.0</td>\n",
              "      <td>8766.0</td>\n",
              "      <td>0.0</td>\n",
              "      <td>4548</td>\n",
              "      <td>1.0</td>\n",
              "      <td>21.6</td>\n",
              "    </tr>\n",
              "    <tr>\n",
              "      <th>290</th>\n",
              "      <td>1828967</td>\n",
              "      <td>201.0</td>\n",
              "      <td>59.0</td>\n",
              "      <td>149.0</td>\n",
              "      <td>80.0</td>\n",
              "      <td>8766.0</td>\n",
              "      <td>0.0</td>\n",
              "      <td>4285</td>\n",
              "      <td>1.0</td>\n",
              "      <td>30.5</td>\n",
              "    </tr>\n",
              "    <tr>\n",
              "      <th>291</th>\n",
              "      <td>1829622</td>\n",
              "      <td>212.0</td>\n",
              "      <td>61.0</td>\n",
              "      <td>187.0</td>\n",
              "      <td>105.0</td>\n",
              "      <td>8766.0</td>\n",
              "      <td>0.0</td>\n",
              "      <td>4287</td>\n",
              "      <td>1.0</td>\n",
              "      <td>22.7</td>\n",
              "    </tr>\n",
              "    <tr>\n",
              "      <th>292</th>\n",
              "      <td>1831641</td>\n",
              "      <td>306.0</td>\n",
              "      <td>70.0</td>\n",
              "      <td>170.0</td>\n",
              "      <td>85.0</td>\n",
              "      <td>8766.0</td>\n",
              "      <td>0.0</td>\n",
              "      <td>4365</td>\n",
              "      <td>1.0</td>\n",
              "      <td>24.1</td>\n",
              "    </tr>\n",
              "    <tr>\n",
              "      <th>293</th>\n",
              "      <td>1833245</td>\n",
              "      <td>159.0</td>\n",
              "      <td>66.0</td>\n",
              "      <td>170.0</td>\n",
              "      <td>96.0</td>\n",
              "      <td>8766.0</td>\n",
              "      <td>18.0</td>\n",
              "      <td>4295</td>\n",
              "      <td>1.0</td>\n",
              "      <td>24.0</td>\n",
              "    </tr>\n",
              "  </tbody>\n",
              "</table>\n",
              "<p>294 rows × 10 columns</p>\n",
              "</div>\n",
              "      <button class=\"colab-df-convert\" onclick=\"convertToInteractive('df-13c95461-a665-405b-ae5c-c3d7d7cb01a3')\"\n",
              "              title=\"Convert this dataframe to an interactive table.\"\n",
              "              style=\"display:none;\">\n",
              "        \n",
              "  <svg xmlns=\"http://www.w3.org/2000/svg\" height=\"24px\"viewBox=\"0 0 24 24\"\n",
              "       width=\"24px\">\n",
              "    <path d=\"M0 0h24v24H0V0z\" fill=\"none\"/>\n",
              "    <path d=\"M18.56 5.44l.94 2.06.94-2.06 2.06-.94-2.06-.94-.94-2.06-.94 2.06-2.06.94zm-11 1L8.5 8.5l.94-2.06 2.06-.94-2.06-.94L8.5 2.5l-.94 2.06-2.06.94zm10 10l.94 2.06.94-2.06 2.06-.94-2.06-.94-.94-2.06-.94 2.06-2.06.94z\"/><path d=\"M17.41 7.96l-1.37-1.37c-.4-.4-.92-.59-1.43-.59-.52 0-1.04.2-1.43.59L10.3 9.45l-7.72 7.72c-.78.78-.78 2.05 0 2.83L4 21.41c.39.39.9.59 1.41.59.51 0 1.02-.2 1.41-.59l7.78-7.78 2.81-2.81c.8-.78.8-2.07 0-2.86zM5.41 20L4 18.59l7.72-7.72 1.47 1.35L5.41 20z\"/>\n",
              "  </svg>\n",
              "      </button>\n",
              "      \n",
              "  <style>\n",
              "    .colab-df-container {\n",
              "      display:flex;\n",
              "      flex-wrap:wrap;\n",
              "      gap: 12px;\n",
              "    }\n",
              "\n",
              "    .colab-df-convert {\n",
              "      background-color: #E8F0FE;\n",
              "      border: none;\n",
              "      border-radius: 50%;\n",
              "      cursor: pointer;\n",
              "      display: none;\n",
              "      fill: #1967D2;\n",
              "      height: 32px;\n",
              "      padding: 0 0 0 0;\n",
              "      width: 32px;\n",
              "    }\n",
              "\n",
              "    .colab-df-convert:hover {\n",
              "      background-color: #E2EBFA;\n",
              "      box-shadow: 0px 1px 2px rgba(60, 64, 67, 0.3), 0px 1px 3px 1px rgba(60, 64, 67, 0.15);\n",
              "      fill: #174EA6;\n",
              "    }\n",
              "\n",
              "    [theme=dark] .colab-df-convert {\n",
              "      background-color: #3B4455;\n",
              "      fill: #D2E3FC;\n",
              "    }\n",
              "\n",
              "    [theme=dark] .colab-df-convert:hover {\n",
              "      background-color: #434B5C;\n",
              "      box-shadow: 0px 1px 3px 1px rgba(0, 0, 0, 0.15);\n",
              "      filter: drop-shadow(0px 1px 2px rgba(0, 0, 0, 0.3));\n",
              "      fill: #FFFFFF;\n",
              "    }\n",
              "  </style>\n",
              "\n",
              "      <script>\n",
              "        const buttonEl =\n",
              "          document.querySelector('#df-13c95461-a665-405b-ae5c-c3d7d7cb01a3 button.colab-df-convert');\n",
              "        buttonEl.style.display =\n",
              "          google.colab.kernel.accessAllowed ? 'block' : 'none';\n",
              "\n",
              "        async function convertToInteractive(key) {\n",
              "          const element = document.querySelector('#df-13c95461-a665-405b-ae5c-c3d7d7cb01a3');\n",
              "          const dataTable =\n",
              "            await google.colab.kernel.invokeFunction('convertToInteractive',\n",
              "                                                     [key], {});\n",
              "          if (!dataTable) return;\n",
              "\n",
              "          const docLinkHtml = 'Like what you see? Visit the ' +\n",
              "            '<a target=\"_blank\" href=https://colab.research.google.com/notebooks/data_table.ipynb>data table notebook</a>'\n",
              "            + ' to learn more about interactive tables.';\n",
              "          element.innerHTML = '';\n",
              "          dataTable['output_type'] = 'display_data';\n",
              "          await google.colab.output.renderOutput(dataTable, element);\n",
              "          const docLink = document.createElement('div');\n",
              "          docLink.innerHTML = docLinkHtml;\n",
              "          element.appendChild(docLink);\n",
              "        }\n",
              "      </script>\n",
              "    </div>\n",
              "  </div>\n",
              "  "
            ],
            "text/plain": [
              "      RANDID  TOTCHOL   AGE  SYSBP  DIABP  TIMEMI  CIGPDAY  TIME  STROKE   BMI\n",
              "0      11263    216.0  55.0  140.0   70.0  8766.0      0.0  4351     1.0  31.2\n",
              "1      14367    177.0  64.0  148.0   66.0  8766.0     18.0  4438     1.0  25.7\n",
              "2      16799    207.0  62.0  165.0   91.0  8766.0     30.0  4431     1.0  22.0\n",
              "3      24721    168.0  51.0  145.0   73.0  6411.0     20.0  4408     1.0  24.8\n",
              "4      45464    232.0  64.0  161.0   78.0  8766.0      0.0  4368     1.0  24.0\n",
              "..       ...      ...   ...    ...    ...     ...      ...   ...     ...   ...\n",
              "289  1811847    242.0  48.0  167.0   82.0  8766.0      0.0  4548     1.0  21.6\n",
              "290  1828967    201.0  59.0  149.0   80.0  8766.0      0.0  4285     1.0  30.5\n",
              "291  1829622    212.0  61.0  187.0  105.0  8766.0      0.0  4287     1.0  22.7\n",
              "292  1831641    306.0  70.0  170.0   85.0  8766.0      0.0  4365     1.0  24.1\n",
              "293  1833245    159.0  66.0  170.0   96.0  8766.0     18.0  4295     1.0  24.0\n",
              "\n",
              "[294 rows x 10 columns]"
            ]
          },
          "metadata": {},
          "execution_count": 74
        }
      ]
    },
    {
      "cell_type": "code",
      "source": [
        "#Dependent variable\n",
        "\n",
        "df[\"STROKE\"].value_counts() \n",
        "\n",
        "#1 = Stroke, 0= No stroke"
      ],
      "metadata": {
        "colab": {
          "base_uri": "https://localhost:8080/"
        },
        "id": "l08n1QQmMAPq",
        "outputId": "979e052e-e88b-4021-ac61-8d079a37a967"
      },
      "execution_count": 75,
      "outputs": [
        {
          "output_type": "execute_result",
          "data": {
            "text/plain": [
              "1.0    299\n",
              "2.0    297\n",
              "Name: STROKE, dtype: int64"
            ]
          },
          "metadata": {},
          "execution_count": 75
        }
      ]
    },
    {
      "cell_type": "code",
      "source": [
        "y = df[\"STROKE\"] #Dependent variable\n",
        "X = df.drop([\"STROKE\"], axis=1) #Independent variable"
      ],
      "metadata": {
        "id": "3BLwSziiMMGc"
      },
      "execution_count": 76,
      "outputs": []
    },
    {
      "cell_type": "code",
      "source": [
        "\n",
        "X = X.drop([\"RANDID\"], axis=1)\n",
        "X.head()"
      ],
      "metadata": {
        "colab": {
          "base_uri": "https://localhost:8080/",
          "height": 206
        },
        "id": "UrYpWvQvMUwx",
        "outputId": "1817cc28-1fcf-47a3-e229-5b44c04daaf0"
      },
      "execution_count": 77,
      "outputs": [
        {
          "output_type": "execute_result",
          "data": {
            "text/html": [
              "\n",
              "  <div id=\"df-68a1ff29-c4b3-4d4d-b099-0810191ffa7d\">\n",
              "    <div class=\"colab-df-container\">\n",
              "      <div>\n",
              "<style scoped>\n",
              "    .dataframe tbody tr th:only-of-type {\n",
              "        vertical-align: middle;\n",
              "    }\n",
              "\n",
              "    .dataframe tbody tr th {\n",
              "        vertical-align: top;\n",
              "    }\n",
              "\n",
              "    .dataframe thead th {\n",
              "        text-align: right;\n",
              "    }\n",
              "</style>\n",
              "<table border=\"1\" class=\"dataframe\">\n",
              "  <thead>\n",
              "    <tr style=\"text-align: right;\">\n",
              "      <th></th>\n",
              "      <th>TOTCHOL</th>\n",
              "      <th>AGE</th>\n",
              "      <th>SYSBP</th>\n",
              "      <th>DIABP</th>\n",
              "      <th>TIMEMI</th>\n",
              "      <th>CIGPDAY</th>\n",
              "      <th>TIME</th>\n",
              "      <th>BMI</th>\n",
              "    </tr>\n",
              "  </thead>\n",
              "  <tbody>\n",
              "    <tr>\n",
              "      <th>1</th>\n",
              "      <td>223.0</td>\n",
              "      <td>58.0</td>\n",
              "      <td>122.0</td>\n",
              "      <td>75.0</td>\n",
              "      <td>8766.0</td>\n",
              "      <td>0.0</td>\n",
              "      <td>4344</td>\n",
              "      <td>28.5</td>\n",
              "    </tr>\n",
              "    <tr>\n",
              "      <th>2</th>\n",
              "      <td>232.0</td>\n",
              "      <td>58.0</td>\n",
              "      <td>131.0</td>\n",
              "      <td>70.0</td>\n",
              "      <td>8766.0</td>\n",
              "      <td>0.0</td>\n",
              "      <td>4285</td>\n",
              "      <td>24.6</td>\n",
              "    </tr>\n",
              "    <tr>\n",
              "      <th>3</th>\n",
              "      <td>216.0</td>\n",
              "      <td>55.0</td>\n",
              "      <td>140.0</td>\n",
              "      <td>70.0</td>\n",
              "      <td>8766.0</td>\n",
              "      <td>0.0</td>\n",
              "      <td>4351</td>\n",
              "      <td>31.2</td>\n",
              "    </tr>\n",
              "    <tr>\n",
              "      <th>4</th>\n",
              "      <td>208.0</td>\n",
              "      <td>57.0</td>\n",
              "      <td>127.0</td>\n",
              "      <td>75.0</td>\n",
              "      <td>8766.0</td>\n",
              "      <td>0.0</td>\n",
              "      <td>4289</td>\n",
              "      <td>22.0</td>\n",
              "    </tr>\n",
              "    <tr>\n",
              "      <th>5</th>\n",
              "      <td>177.0</td>\n",
              "      <td>64.0</td>\n",
              "      <td>148.0</td>\n",
              "      <td>66.0</td>\n",
              "      <td>8766.0</td>\n",
              "      <td>18.0</td>\n",
              "      <td>4438</td>\n",
              "      <td>25.7</td>\n",
              "    </tr>\n",
              "  </tbody>\n",
              "</table>\n",
              "</div>\n",
              "      <button class=\"colab-df-convert\" onclick=\"convertToInteractive('df-68a1ff29-c4b3-4d4d-b099-0810191ffa7d')\"\n",
              "              title=\"Convert this dataframe to an interactive table.\"\n",
              "              style=\"display:none;\">\n",
              "        \n",
              "  <svg xmlns=\"http://www.w3.org/2000/svg\" height=\"24px\"viewBox=\"0 0 24 24\"\n",
              "       width=\"24px\">\n",
              "    <path d=\"M0 0h24v24H0V0z\" fill=\"none\"/>\n",
              "    <path d=\"M18.56 5.44l.94 2.06.94-2.06 2.06-.94-2.06-.94-.94-2.06-.94 2.06-2.06.94zm-11 1L8.5 8.5l.94-2.06 2.06-.94-2.06-.94L8.5 2.5l-.94 2.06-2.06.94zm10 10l.94 2.06.94-2.06 2.06-.94-2.06-.94-.94-2.06-.94 2.06-2.06.94z\"/><path d=\"M17.41 7.96l-1.37-1.37c-.4-.4-.92-.59-1.43-.59-.52 0-1.04.2-1.43.59L10.3 9.45l-7.72 7.72c-.78.78-.78 2.05 0 2.83L4 21.41c.39.39.9.59 1.41.59.51 0 1.02-.2 1.41-.59l7.78-7.78 2.81-2.81c.8-.78.8-2.07 0-2.86zM5.41 20L4 18.59l7.72-7.72 1.47 1.35L5.41 20z\"/>\n",
              "  </svg>\n",
              "      </button>\n",
              "      \n",
              "  <style>\n",
              "    .colab-df-container {\n",
              "      display:flex;\n",
              "      flex-wrap:wrap;\n",
              "      gap: 12px;\n",
              "    }\n",
              "\n",
              "    .colab-df-convert {\n",
              "      background-color: #E8F0FE;\n",
              "      border: none;\n",
              "      border-radius: 50%;\n",
              "      cursor: pointer;\n",
              "      display: none;\n",
              "      fill: #1967D2;\n",
              "      height: 32px;\n",
              "      padding: 0 0 0 0;\n",
              "      width: 32px;\n",
              "    }\n",
              "\n",
              "    .colab-df-convert:hover {\n",
              "      background-color: #E2EBFA;\n",
              "      box-shadow: 0px 1px 2px rgba(60, 64, 67, 0.3), 0px 1px 3px 1px rgba(60, 64, 67, 0.15);\n",
              "      fill: #174EA6;\n",
              "    }\n",
              "\n",
              "    [theme=dark] .colab-df-convert {\n",
              "      background-color: #3B4455;\n",
              "      fill: #D2E3FC;\n",
              "    }\n",
              "\n",
              "    [theme=dark] .colab-df-convert:hover {\n",
              "      background-color: #434B5C;\n",
              "      box-shadow: 0px 1px 3px 1px rgba(0, 0, 0, 0.15);\n",
              "      filter: drop-shadow(0px 1px 2px rgba(0, 0, 0, 0.3));\n",
              "      fill: #FFFFFF;\n",
              "    }\n",
              "  </style>\n",
              "\n",
              "      <script>\n",
              "        const buttonEl =\n",
              "          document.querySelector('#df-68a1ff29-c4b3-4d4d-b099-0810191ffa7d button.colab-df-convert');\n",
              "        buttonEl.style.display =\n",
              "          google.colab.kernel.accessAllowed ? 'block' : 'none';\n",
              "\n",
              "        async function convertToInteractive(key) {\n",
              "          const element = document.querySelector('#df-68a1ff29-c4b3-4d4d-b099-0810191ffa7d');\n",
              "          const dataTable =\n",
              "            await google.colab.kernel.invokeFunction('convertToInteractive',\n",
              "                                                     [key], {});\n",
              "          if (!dataTable) return;\n",
              "\n",
              "          const docLinkHtml = 'Like what you see? Visit the ' +\n",
              "            '<a target=\"_blank\" href=https://colab.research.google.com/notebooks/data_table.ipynb>data table notebook</a>'\n",
              "            + ' to learn more about interactive tables.';\n",
              "          element.innerHTML = '';\n",
              "          dataTable['output_type'] = 'display_data';\n",
              "          await google.colab.output.renderOutput(dataTable, element);\n",
              "          const docLink = document.createElement('div');\n",
              "          docLink.innerHTML = docLinkHtml;\n",
              "          element.appendChild(docLink);\n",
              "        }\n",
              "      </script>\n",
              "    </div>\n",
              "  </div>\n",
              "  "
            ],
            "text/plain": [
              "   TOTCHOL   AGE  SYSBP  DIABP  TIMEMI  CIGPDAY  TIME   BMI\n",
              "1    223.0  58.0  122.0   75.0  8766.0      0.0  4344  28.5\n",
              "2    232.0  58.0  131.0   70.0  8766.0      0.0  4285  24.6\n",
              "3    216.0  55.0  140.0   70.0  8766.0      0.0  4351  31.2\n",
              "4    208.0  57.0  127.0   75.0  8766.0      0.0  4289  22.0\n",
              "5    177.0  64.0  148.0   66.0  8766.0     18.0  4438  25.7"
            ]
          },
          "metadata": {},
          "execution_count": 77
        }
      ]
    },
    {
      "cell_type": "markdown",
      "source": [
        "Now we will split the data into trainig and testing using train test split, it is basically a technique for evaluating the performance of a machine learning algorithm, it is mainly used in all types of supervised learning algorithms. \n",
        "It is used by taking the datasset and dividing it into two subsets. The first subset is going to be used for fitting the model and is reffered to as the training set. The second subset will not be used to train the model; instead, the input element of the dataset is provided to the model."
      ],
      "metadata": {
        "id": "0nb3nyQFDXQ8"
      }
    },
    {
      "cell_type": "code",
      "source": [
        "X_train, X_test, y_train, y_test = train_test_split(X, y, \n",
        "                                                    test_size = 0.2, \n",
        "                                                    random_state = 42)"
      ],
      "metadata": {
        "id": "cpZ_3_LeNCPo"
      },
      "execution_count": 78,
      "outputs": []
    },
    {
      "cell_type": "markdown",
      "source": [
        "**Logistic Regression**\n",
        "\n",
        "The first machine learning that we will be using is Logistic regression, it is a classification algorithm which is used to classify data with the help of activation functions."
      ],
      "metadata": {
        "id": "Kp1OUiGJEbu-"
      }
    },
    {
      "cell_type": "code",
      "source": [
        "loj = LogisticRegression(solver = \"liblinear\")\n",
        "loj_model = loj.fit(X_train,y_train)\n",
        "loj_model\n",
        "\n",
        "testscore_lr =accuracy_score(y_test, loj_model.predict(X_test))\n",
        "accuracy_score(y_test, loj_model.predict(X_test))"
      ],
      "metadata": {
        "colab": {
          "base_uri": "https://localhost:8080/"
        },
        "id": "7Q7lXPIKNK2H",
        "outputId": "349ac5e4-7f0d-4416-bdd3-f49037637420"
      },
      "execution_count": 79,
      "outputs": [
        {
          "output_type": "execute_result",
          "data": {
            "text/plain": [
              "0.9083333333333333"
            ]
          },
          "metadata": {},
          "execution_count": 79
        }
      ]
    },
    {
      "cell_type": "markdown",
      "source": [
        "The logistic regression has an accuracy of 90% on the dataset. now we'll check its cross validation score"
      ],
      "metadata": {
        "id": "zxMLc0DlFWf0"
      }
    },
    {
      "cell_type": "code",
      "source": [
        "crosscore_lr =cross_val_score(loj_model, X_test, y_test, cv = 10).mean() \n",
        "cross_val_score(loj_model, X_test, y_test, cv = 10).mean()"
      ],
      "metadata": {
        "colab": {
          "base_uri": "https://localhost:8080/"
        },
        "id": "Ap-H68qaNOWl",
        "outputId": "547031ea-baa2-4b45-e5e1-5994e4576781"
      },
      "execution_count": 80,
      "outputs": [
        {
          "output_type": "execute_result",
          "data": {
            "text/plain": [
              "0.8916666666666668"
            ]
          },
          "metadata": {},
          "execution_count": 80
        }
      ]
    },
    {
      "cell_type": "markdown",
      "source": [
        "The Logistic Regresson has 89% of cross validation score.\n",
        " "
      ],
      "metadata": {
        "id": "o-IvJDDzF-oR"
      }
    },
    {
      "cell_type": "markdown",
      "source": [
        "**Naive Bayes**\n",
        "\n",
        "The next algorithm we will use is Naive Bayes algorithm which is a probabilistic classifier, which means it predicts on the basis of probability of data"
      ],
      "metadata": {
        "id": "neC3--RuJu8C"
      }
    },
    {
      "cell_type": "code",
      "source": [
        "from sklearn.naive_bayes import GaussianNB\n",
        "nb = GaussianNB()\n",
        "nb_model = nb.fit(X_train, y_train)\n",
        "nb_model\n",
        "\n",
        "y_pred = nb_model.predict(X_test)\n",
        "testscore_nb =   accuracy_score(y_test, y_pred) \n",
        "accuracy_score(y_test, y_pred) "
      ],
      "metadata": {
        "colab": {
          "base_uri": "https://localhost:8080/"
        },
        "id": "RdSztoPZNSYh",
        "outputId": "fa9a9cea-ed3e-4fee-ba2e-6d8e00261f06"
      },
      "execution_count": 81,
      "outputs": [
        {
          "output_type": "execute_result",
          "data": {
            "text/plain": [
              "0.8583333333333333"
            ]
          },
          "metadata": {},
          "execution_count": 81
        }
      ]
    },
    {
      "cell_type": "code",
      "source": [
        "crosscore_nb=cross_val_score(nb_model, X_test, y_test, cv = 10).mean() \n",
        "cross_val_score(nb_model, X_test, y_test, cv = 10).mean() "
      ],
      "metadata": {
        "colab": {
          "base_uri": "https://localhost:8080/"
        },
        "id": "Nt3yslr_NWQY",
        "outputId": "c5257540-c61e-444a-aba1-4064cda40d9e"
      },
      "execution_count": 82,
      "outputs": [
        {
          "output_type": "execute_result",
          "data": {
            "text/plain": [
              "0.8166666666666667"
            ]
          },
          "metadata": {},
          "execution_count": 82
        }
      ]
    },
    {
      "cell_type": "markdown",
      "source": [
        "The Naive Bayes algorithm has an accuracy of 85% which is less than logistic regression and also the cross validation score of the algorithm is also less as compared to logistic regression."
      ],
      "metadata": {
        "id": "D6yYoTEbH3Vg"
      }
    },
    {
      "cell_type": "markdown",
      "source": [
        "**Support Vector Machine**\n",
        "\n",
        "The next algorithm we will be using is support vector machines, it is a set of supervised learning methods which are used ofr classification, regression and outlier detection. one of the advantages of svm is that it peforms well on high dimensional spaces."
      ],
      "metadata": {
        "id": "8T-6z8ABH6eD"
      }
    },
    {
      "cell_type": "code",
      "source": [
        "svm_model = SVC(kernel = \"linear\").fit(X_train, y_train)\n",
        "y_pred = svm_model.predict(X_test)\n",
        "\n",
        "testscore_svm=accuracy_score(y_test, y_pred)\n",
        "accuracy_score(y_test, y_pred) #test acc"
      ],
      "metadata": {
        "colab": {
          "base_uri": "https://localhost:8080/"
        },
        "id": "7Di4icV8Nlwp",
        "outputId": "79059d55-a828-4421-ac8a-60fa3c42bf16"
      },
      "execution_count": 83,
      "outputs": [
        {
          "output_type": "execute_result",
          "data": {
            "text/plain": [
              "0.8833333333333333"
            ]
          },
          "metadata": {},
          "execution_count": 83
        }
      ]
    },
    {
      "cell_type": "markdown",
      "source": [
        "The svm performed well as compared to Naive Bayes but still not as well as logistic regression but we will try fitting the best parameters and check its cross validation score"
      ],
      "metadata": {
        "id": "T5z-UV8sIxoC"
      }
    },
    {
      "cell_type": "code",
      "source": [
        "svc_params = {\"C\": np.arange(1,2)}\n",
        "\n",
        "svc = SVC(kernel = \"linear\")\n",
        "\n",
        "svc_cv_model = GridSearchCV(svc,svc_params, \n",
        "                            cv = 10, \n",
        "                            n_jobs = -1, \n",
        "                            verbose = 2 )\n",
        "\n",
        "svc_cv_model.fit(X_train, y_train)\n",
        "\n",
        "print(\"The best parameters: \" + str(svc_cv_model.best_params_))\n"
      ],
      "metadata": {
        "colab": {
          "base_uri": "https://localhost:8080/"
        },
        "id": "nci3VG5fNrhb",
        "outputId": "33effaf7-c78f-4f5a-f784-56fa2c32a3d4"
      },
      "execution_count": 84,
      "outputs": [
        {
          "output_type": "stream",
          "name": "stdout",
          "text": [
            "Fitting 10 folds for each of 1 candidates, totalling 10 fits\n",
            "The best parameters: {'C': 1}\n"
          ]
        }
      ]
    },
    {
      "cell_type": "code",
      "source": [
        "svc_tuned = SVC(kernel = \"linear\", C = 1).fit(X_train, y_train)\n",
        "\n",
        "y_pred = svc_tuned.predict(X_test)\n",
        "crosscore_svm=accuracy_score(y_test, y_pred)\n",
        "accuracy_score(y_test, y_pred)"
      ],
      "metadata": {
        "colab": {
          "base_uri": "https://localhost:8080/"
        },
        "id": "GWql8Xx7NxVq",
        "outputId": "d8b18a1d-ef24-4e40-bdfc-8cfca5f9c4ee"
      },
      "execution_count": 85,
      "outputs": [
        {
          "output_type": "execute_result",
          "data": {
            "text/plain": [
              "0.8833333333333333"
            ]
          },
          "metadata": {},
          "execution_count": 85
        }
      ]
    },
    {
      "cell_type": "markdown",
      "source": [
        "looking at the performance and cross validation scores of all 3 algorithms we conclude that the logisitc regression performs well as compared to Naive Bayes and SVM so Logistic Regression will be considered for the prediction of strokes"
      ],
      "metadata": {
        "id": "cU9Qe41ZJP66"
      }
    }
  ]
}